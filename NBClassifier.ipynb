{
 "cells": [
  {
   "cell_type": "markdown",
   "metadata": {},
   "source": [
    "# Course Review Sentiment Analysis with Naive Bayes Classifier\n",
    "\n",
    "This notebook aims to perform sentiment analysis on course reviews using a Naive Bayes classifier. The dataset consists of reviews for various online courses, along with their ratings. The goal is to predict whether a review is positive or negative based on its textual content.\n",
    "\n",
    "## Steps Taken:\n",
    "\n",
    "1. **Data Loading and Exploration:**\n",
    "   - Load the dataset containing course reviews.\n",
    "   - Explore the data to understand its structure and contents.\n",
    "\n",
    "2. **Data Preprocessing:**\n",
    "   - Clean and normalize the text data by removing punctuation, special characters, and digits.\n",
    "   - Handle missing values and perform basic data transformations.\n",
    "\n",
    "3. **Exploratory Data Analysis (EDA):**\n",
    "   - Analyze the distribution of review ratings.\n",
    "   - Explore the relationship between review ratings and review lengths.\n",
    "\n",
    "4. **Text Processing:**\n",
    "   - Tokenize the text data and convert it into numerical features using TF-IDF vectorization.\n",
    "   - Split the dataset into training and testing sets.\n",
    "\n",
    "5. **Model Building:**\n",
    "   - Implement a Multinomial Naive Bayes classifier.\n",
    "   - Train the classifier on the training data.\n",
    "\n",
    "6. **Model Evaluation:**\n",
    "   - Test the performance of the trained model on the testing data.\n",
    "   - Evaluate the model using classification metrics such as precision, recall, and F1-score.\n",
    "   - Visualize the performance using a confusion matrix.\n",
    "\n",
    "7. **Handling Class Imbalance:**\n",
    "   - Address the imbalance in the dataset by upsampling the minority class.\n",
    "   - Retrain the model on the upsampled data and evaluate its performance.\n",
    "\n",
    "8. **Binary Classification:**\n",
    "   - Convert the multi-class classification problem into a binary classification problem (good vs. bad reviews).\n",
    "   - Train and evaluate the binary classifier using the same steps as before.\n",
    "\n",
    "9. **Handling Class Imbalance (Binary Classification):**\n",
    "   - Upsample the minority class in the binary classification dataset.\n",
    "   - Retrain the binary classifier on the upsampled data and evaluate its performance.\n"
   ]
  },
  {
   "cell_type": "markdown",
   "metadata": {},
   "source": [
    "Relevant Imports"
   ]
  },
  {
   "cell_type": "code",
   "execution_count": 1,
   "metadata": {},
   "outputs": [],
   "source": [
    "from sklearn.model_selection import train_test_split\n",
    "from sklearn.feature_extraction.text import TfidfVectorizer\n",
    "from sklearn.naive_bayes import MultinomialNB, BernoulliNB\n",
    "from sklearn.pipeline import make_pipeline\n",
    "from sklearn.metrics import classification_report, confusion_matrix\n",
    "from sklearn.utils import resample\n",
    "import string\n",
    "import re\n",
    "import pandas as pd\n",
    "from matplotlib import pyplot as plt\n",
    "from typing import Sequence, Optional\n",
    "import numpy as np\n",
    "import seaborn as sns\n",
    "sns.set_theme('notebook')"
   ]
  },
  {
   "cell_type": "markdown",
   "metadata": {},
   "source": [
    "Functions for cleaning text and plotting histogram"
   ]
  },
  {
   "cell_type": "code",
   "execution_count": 2,
   "metadata": {},
   "outputs": [],
   "source": [
    "# Function for cleaning and normalizing text:\n",
    "\n",
    "def clean_text(text: str) -> str:\n",
    "    \"\"\"\n",
    "    Clean and normalize the input text by performing the following steps:\n",
    "    1. Convert the text to lowercase.\n",
    "    2. Remove punctuation marks from the text.\n",
    "    3. Remove special characters, punctuation, and digits from the text.\n",
    "    4. Replace multiple consecutive whitespaces with a single whitespace.\n",
    "\n",
    "    Parameters:\n",
    "    - text (str): The input text to be cleaned.\n",
    "\n",
    "    Returns:\n",
    "    - str: The cleaned and normalized text.\n",
    "\n",
    "    Example:\n",
    "    >>> clean_text(\"Hello! This is a sample text. It contains special characters & digits 123.\")\n",
    "    'hello this is a sample text it contains special characters digits'\n",
    "    \"\"\"\n",
    "    text = text.lower()\n",
    "    text = text.translate(str.maketrans('','',string.punctuation)) # Removes any punctuations present in the text\n",
    "    text = re.sub(r'^[a-zA-Z]\\s', '', text) # Removes special characters, punctuations and digits\n",
    "    text = re.sub(r'\\s+', '', text) # Removes extra whitespaces\n",
    "    return text\n",
    "\n",
    "# A function to plot histogram with defined parameters pre calculated\n",
    "def plot_histogram(data: Sequence, x_label: str, y_label: str, title: str, n_bins: Optional[int] = None) -> None:\n",
    "    \"\"\"\n",
    "    Plot a histogram of the input data with specified parameters.\n",
    "\n",
    "    Parameters:\n",
    "    - data (Sequence): The input data for which the histogram will be plotted.\n",
    "    - x_label (str): The label for the x-axis.\n",
    "    - y_label (str): The label for the y-axis.\n",
    "    - title (str): The title of the histogram plot.\n",
    "    - n_bins (Optional[int]): The number of bins for the histogram. If not provided, \n",
    "      it is calculated based on the Freedman-Diaconis rule.\n",
    "\n",
    "    Returns:\n",
    "    - None\n",
    "\n",
    "    Example:\n",
    "    >>> import numpy as np\n",
    "    >>> import matplotlib.pyplot as plt\n",
    "    >>> data = np.random.normal(loc=0, scale=1, size=1000)\n",
    "    >>> plot_histogram(data, x_label=\"Value\", y_label=\"Frequency\", title=\"Histogram of Data\")\n",
    "    \"\"\"\n",
    "    if n_bins is None:\n",
    "        n = len(data)\n",
    "        q3, q1 = np.percentile(data, [75, 25])\n",
    "        iqr = q3 - q1\n",
    "        bin_width = 2 * iqr * (n**(-1/3))\n",
    "        if np.isinf(bin_width) or np.isnan(bin_width) or bin_width == 0:\n",
    "            n_bins = np.ceil(2*(np.cbrt(n))).astype('int32')\n",
    "        else:\n",
    "            data_range = max(data) - min(data)\n",
    "            n_bins = np.ceil(data_range/bin_width).astype('int32')\n",
    "    plt.hist(x= data, bins= n_bins)\n",
    "    plt.xlabel(x_label)\n",
    "    plt.ylabel(y_label)\n",
    "    plt.title(title)\n",
    "    plt.tight_layout()\n",
    "    plt.show()\n",
    "\n",
    "def plot_heatmap(data: Sequence, x_label: str, y_label: str,x_cat: Sequence[str], y_cat: Sequence[str] ,title: str) -> None:\n",
    "    \"\"\"\n",
    "    Plot a heatmap of the input data with specified parameters.\n",
    "\n",
    "    Parameters:\n",
    "    - data: The data for which the heatmap will be plotted.\n",
    "    - x_label: The label for the x-axis.\n",
    "    - y_label: The label for the y-axis.\n",
    "    - title: The title of the heatmap plot.\n",
    "\n",
    "    Returns:\n",
    "    - None\n",
    "\n",
    "    Example:\n",
    "    >>> import numpy as np\n",
    "    >>> conf_mat_bin = np.array([[3, 0], [24, 3]])\n",
    "    >>> plot_heatmap(conf_mat_bin, ['Bad', 'Good'], ['Bad', 'Good'], 'Confusion Matrix for binary data')\n",
    "    \"\"\"\n",
    "    plt.figure(figsize=(8,6))\n",
    "    sns.heatmap(data, annot=True, fmt='d', cmap='Blues', xticklabels=x_cat, yticklabels=y_cat)\n",
    "    plt.ylabel(y_label)\n",
    "    plt.xlabel(x_label)\n",
    "    plt.title(title)\n",
    "    plt.show()"
   ]
  },
  {
   "cell_type": "markdown",
   "metadata": {},
   "source": [
    "Get the data"
   ]
  },
  {
   "cell_type": "code",
   "execution_count": 3,
   "metadata": {},
   "outputs": [
    {
     "data": {
      "text/html": [
       "<div>\n",
       "<style scoped>\n",
       "    .dataframe tbody tr th:only-of-type {\n",
       "        vertical-align: middle;\n",
       "    }\n",
       "\n",
       "    .dataframe tbody tr th {\n",
       "        vertical-align: top;\n",
       "    }\n",
       "\n",
       "    .dataframe thead th {\n",
       "        text-align: right;\n",
       "    }\n",
       "</style>\n",
       "<table border=\"1\" class=\"dataframe\">\n",
       "  <thead>\n",
       "    <tr style=\"text-align: right;\">\n",
       "      <th></th>\n",
       "      <th>course_name</th>\n",
       "      <th>lecture_name</th>\n",
       "      <th>review_rating</th>\n",
       "      <th>review_comment</th>\n",
       "    </tr>\n",
       "  </thead>\n",
       "  <tbody>\n",
       "    <tr>\n",
       "      <th>0</th>\n",
       "      <td>Advanced Microsoft Excel</td>\n",
       "      <td>F1 to F12 - Using Excel's Function Keys</td>\n",
       "      <td>5</td>\n",
       "      <td>perfect</td>\n",
       "    </tr>\n",
       "    <tr>\n",
       "      <th>1</th>\n",
       "      <td>Agile and Scrum Project Management</td>\n",
       "      <td>Agile vs Waterfall - Conclusions</td>\n",
       "      <td>1</td>\n",
       "      <td>The SCRUM chapter are full of errors</td>\n",
       "    </tr>\n",
       "    <tr>\n",
       "      <th>2</th>\n",
       "      <td>AI Applications for Business Success</td>\n",
       "      <td>Correlation vs. Causation</td>\n",
       "      <td>3</td>\n",
       "      <td>Bad quality of audio and narrative</td>\n",
       "    </tr>\n",
       "    <tr>\n",
       "      <th>3</th>\n",
       "      <td>AI Applications for Business Success</td>\n",
       "      <td>Correlation vs. Causation</td>\n",
       "      <td>3</td>\n",
       "      <td>I need documentation about lecture.</td>\n",
       "    </tr>\n",
       "    <tr>\n",
       "      <th>4</th>\n",
       "      <td>Building a 3-Statement Model in Excel</td>\n",
       "      <td>Calculating Cash Flows and Completing the Mode...</td>\n",
       "      <td>5</td>\n",
       "      <td>Great course! Ned has a talent for explaining ...</td>\n",
       "    </tr>\n",
       "  </tbody>\n",
       "</table>\n",
       "</div>"
      ],
      "text/plain": [
       "                             course_name  \\\n",
       "0               Advanced Microsoft Excel   \n",
       "1     Agile and Scrum Project Management   \n",
       "2   AI Applications for Business Success   \n",
       "3   AI Applications for Business Success   \n",
       "4  Building a 3-Statement Model in Excel   \n",
       "\n",
       "                                        lecture_name  review_rating  \\\n",
       "0            F1 to F12 - Using Excel's Function Keys              5   \n",
       "1                   Agile vs Waterfall - Conclusions              1   \n",
       "2                          Correlation vs. Causation              3   \n",
       "3                          Correlation vs. Causation              3   \n",
       "4  Calculating Cash Flows and Completing the Mode...              5   \n",
       "\n",
       "                                      review_comment  \n",
       "0                                           perfect   \n",
       "1               The SCRUM chapter are full of errors  \n",
       "2                Bad quality of audio and narrative   \n",
       "3                I need documentation about lecture.  \n",
       "4  Great course! Ned has a talent for explaining ...  "
      ]
     },
     "execution_count": 3,
     "metadata": {},
     "output_type": "execute_result"
    }
   ],
   "source": [
    "data_file = 'user_courses_review_test_set.csv'\n",
    "data = pd.read_csv(data_file)\n",
    "data.head()"
   ]
  },
  {
   "cell_type": "markdown",
   "metadata": {},
   "source": [
    "perform EDA"
   ]
  },
  {
   "cell_type": "code",
   "execution_count": 4,
   "metadata": {},
   "outputs": [
    {
     "data": {
      "text/plain": [
       "(course_name       0\n",
       " lecture_name      0\n",
       " review_rating     0\n",
       " review_comment    4\n",
       " dtype: int64,\n",
       " course_name        object\n",
       " lecture_name       object\n",
       " review_rating     float64\n",
       " review_comment     object\n",
       " dtype: object)"
      ]
     },
     "execution_count": 4,
     "metadata": {},
     "output_type": "execute_result"
    }
   ],
   "source": [
    "# check data type:\n",
    "data['review_rating'] = data['review_rating'].astype(np.float64)\n",
    "data_types = data.dtypes\n",
    "\n",
    "# find the missing values:\n",
    "missing_values = data.isnull().sum()\n",
    "missing_values, data_types\n"
   ]
  },
  {
   "cell_type": "code",
   "execution_count": 5,
   "metadata": {},
   "outputs": [
    {
     "data": {
      "text/plain": [
       "count    154.000000\n",
       "mean       4.642857\n",
       "std        0.805849\n",
       "min        1.000000\n",
       "25%        5.000000\n",
       "50%        5.000000\n",
       "75%        5.000000\n",
       "max        5.000000\n",
       "Name: review_rating, dtype: float64"
      ]
     },
     "execution_count": 5,
     "metadata": {},
     "output_type": "execute_result"
    }
   ],
   "source": [
    "review_rating_stats = data['review_rating'].describe()\n",
    "review_rating_stats"
   ]
  },
  {
   "cell_type": "code",
   "execution_count": 6,
   "metadata": {},
   "outputs": [
    {
     "data": {
      "image/png": "[encoded data removed]",
      "text/plain": [
       "<Figure size 640x480 with 1 Axes>"
      ]
     },
     "metadata": {},
     "output_type": "display_data"
    }
   ],
   "source": [
    "plot_histogram(data['review_rating'], 'Ratings', 'Frequency', 'Distribution of review ratings', 5)"
   ]
  },
  {
   "cell_type": "markdown",
   "metadata": {},
   "source": [
    "preprocessing"
   ]
  },
  {
   "cell_type": "code",
   "execution_count": 7,
   "metadata": {},
   "outputs": [
    {
     "name": "stderr",
     "output_type": "stream",
     "text": [
      "C:\\Users\\jadia\\AppData\\Local\\Temp\\ipykernel_24004\\1371462421.py:4: SettingWithCopyWarning: \n",
      "A value is trying to be set on a copy of a slice from a DataFrame.\n",
      "Try using .loc[row_indexer,col_indexer] = value instead\n",
      "\n",
      "See the caveats in the documentation: https://pandas.pydata.org/pandas-docs/stable/user_guide/indexing.html#returning-a-view-versus-a-copy\n",
      "  cleaned_data['comment_length'] = cleaned_data['review_comment'].apply(len)\n"
     ]
    },
    {
     "data": {
      "text/plain": [
       "((150, 4),\n",
       "                 review_rating  comment_length\n",
       " review_rating        1.000000       -0.145206\n",
       " comment_length      -0.145206        1.000000)"
      ]
     },
     "execution_count": 7,
     "metadata": {},
     "output_type": "execute_result"
    }
   ],
   "source": [
    "cleaned_data = data.dropna()\n",
    "new_shape = cleaned_data.shape\n",
    "\n",
    "cleaned_data['comment_length'] = cleaned_data['review_comment'].apply(len)\n",
    "correlation = cleaned_data[['review_rating', 'comment_length']].corr()\n",
    "\n",
    "new_shape, correlation"
   ]
  },
  {
   "cell_type": "code",
   "execution_count": 8,
   "metadata": {},
   "outputs": [
    {
     "data": {
      "text/plain": [
       "{'positive_emphasis': 82,\n",
       " 'negative_emphasis': 1,\n",
       " 'question': 0,\n",
       " 'exclamation': 20,\n",
       " 'capital_words': 9}"
      ]
     },
     "execution_count": 8,
     "metadata": {},
     "output_type": "execute_result"
    }
   ],
   "source": [
    "patterns = {\n",
    "    \"positive_emphasis\" : re.compile(r'\\b(great|good|excellent|amazing|love|best|awesome|fantastic)\\b', re.IGNORECASE),\n",
    "    \"negative_emphasis\" : re.compile(r'\\b(bad|terrible|aweful|poor|worst|hate|dissappoint)\\b', re.IGNORECASE),\n",
    "    \"question\" : re.compile(r'\\?'),\n",
    "    \"exclamation\" : re.compile(r'!'),\n",
    "    \"capital_words\" : re.compile(r'\\b[A-Z]{2,}\\b'),\n",
    "}\n",
    "\n",
    "pattern_counts = {key: 0 for key in patterns}\n",
    "\n",
    "for review in cleaned_data['review_comment']:\n",
    "    for key, pattern in patterns.items():\n",
    "        if re.search(pattern, review):\n",
    "            pattern_counts[key] += 1\n",
    "\n",
    "pattern_counts"
   ]
  },
  {
   "cell_type": "markdown",
   "metadata": {},
   "source": [
    "Normalize text comments and split them into training and test sets"
   ]
  },
  {
   "cell_type": "code",
   "execution_count": 9,
   "metadata": {},
   "outputs": [],
   "source": [
    "cleaned_data.loc[:,'review_comment'] = cleaned_data.loc[:,'review_comment'].apply(clean_text)\n",
    "\n",
    "\n",
    "# Separation of concerns into features(X) and targets(y):\n",
    "X = cleaned_data.loc[:, 'review_comment']\n",
    "y = cleaned_data.loc[:, 'review_rating']\n",
    "\n",
    "# Split into train and test data:\n",
    "X_train, X_test, y_train, y_test = train_test_split(X, y, test_size=0.2, random_state=42)"
   ]
  },
  {
   "cell_type": "markdown",
   "metadata": {},
   "source": [
    "Tokenize, Vectorize and create a model"
   ]
  },
  {
   "cell_type": "code",
   "execution_count": 10,
   "metadata": {},
   "outputs": [
    {
     "name": "stdout",
     "output_type": "stream",
     "text": [
      "[[ 0  0  0  1]\n",
      " [ 0  0  0  2]\n",
      " [ 0  0  0  4]\n",
      " [ 0  0  0 23]] \n",
      "               precision    recall  f1-score   support\n",
      "\n",
      "         1.0       0.00      0.00      0.00         1\n",
      "         3.0       0.00      0.00      0.00         2\n",
      "         4.0       0.00      0.00      0.00         4\n",
      "         5.0       0.77      1.00      0.87        23\n",
      "\n",
      "    accuracy                           0.77        30\n",
      "   macro avg       0.19      0.25      0.22        30\n",
      "weighted avg       0.59      0.77      0.67        30\n",
      "\n"
     ]
    },
    {
     "name": "stderr",
     "output_type": "stream",
     "text": [
      "C:\\Users\\jadia\\AppData\\Local\\Packages\\PythonSoftwareFoundation.Python.3.10_qbz5n2kfra8p0\\LocalCache\\local-packages\\Python310\\site-packages\\sklearn\\metrics\\_classification.py:1509: UndefinedMetricWarning: Precision is ill-defined and being set to 0.0 in labels with no predicted samples. Use `zero_division` parameter to control this behavior.\n",
      "  _warn_prf(average, modifier, f\"{metric.capitalize()} is\", len(result))\n",
      "C:\\Users\\jadia\\AppData\\Local\\Packages\\PythonSoftwareFoundation.Python.3.10_qbz5n2kfra8p0\\LocalCache\\local-packages\\Python310\\site-packages\\sklearn\\metrics\\_classification.py:1509: UndefinedMetricWarning: Precision is ill-defined and being set to 0.0 in labels with no predicted samples. Use `zero_division` parameter to control this behavior.\n",
      "  _warn_prf(average, modifier, f\"{metric.capitalize()} is\", len(result))\n",
      "C:\\Users\\jadia\\AppData\\Local\\Packages\\PythonSoftwareFoundation.Python.3.10_qbz5n2kfra8p0\\LocalCache\\local-packages\\Python310\\site-packages\\sklearn\\metrics\\_classification.py:1509: UndefinedMetricWarning: Precision is ill-defined and being set to 0.0 in labels with no predicted samples. Use `zero_division` parameter to control this behavior.\n",
      "  _warn_prf(average, modifier, f\"{metric.capitalize()} is\", len(result))\n"
     ]
    }
   ],
   "source": [
    "vectorizer = TfidfVectorizer(stop_words='english')\n",
    "model = MultinomialNB()\n",
    "\n",
    "text_clf = make_pipeline(vectorizer, model)\n",
    "text_clf.fit(X_train, y_train)\n",
    "\n",
    "y_pred = text_clf.predict(X_test)\n",
    "report = classification_report(y_test, y_pred)\n",
    "conf_mat = confusion_matrix(y_test, y_pred)\n",
    "\n",
    "print(conf_mat, \"\\n\",report)"
   ]
  },
  {
   "cell_type": "markdown",
   "metadata": {},
   "source": [
    "### Interpretation of Classification Results\n",
    "\n",
    "#### Confusion Matrix:\n",
    "The confusion matrix summarizes the performance of the classification model on the test data. Each cell in the matrix represents the number of instances predicted for a particular class compared to the true class labels. Here, the classes represent the number of stars (out of 5) for review ratings.\n",
    "\n",
    "| True\\Predicted | 1 Star | 3 Stars | 4 Stars | 5 Stars |\n",
    "|----------------|--------|---------|---------|---------|\n",
    "| 1 Star         |   0    |    0    |    0    |    1    |\n",
    "| 3 Stars        |   0    |    0    |    0    |    2    |\n",
    "| 4 Stars        |   0    |    0    |    0    |    4    |\n",
    "| 5 Stars        |   0    |    0    |    0    |   23    |\n",
    "\n",
    "#### Classification Report:\n",
    "The classification report provides important metrics for evaluating the model's performance, including precision, recall, F1-score, and support for each class. Here, the classes represent the number of stars (out of 5) for review ratings.\n",
    "\n",
    "|       | Precision | Recall | F1-Score | Support |\n",
    "|-------|-----------|--------|----------|---------|\n",
    "| 1 Star |   0.00    |  0.00  |   0.00   |    1    |\n",
    "| 3 Stars|   0.00    |  0.00  |   0.00   |    2    |\n",
    "| 4 Stars|   0.00    |  0.00  |   0.00   |    4    |\n",
    "| 5 Stars|   0.77    |  1.00  |   0.87   |   23    |\n",
    "\n",
    "#### Interpretation:\n",
    "- The model performed well in predicting instances with 5-star ratings, achieving high precision, recall, and F1-score.\n",
    "- However, the model failed to predict any instances for 1-star, 3-star, and 4-star ratings, resulting in precision, recall, and F1-score of 0 for these classes.\n",
    "- The overall accuracy of the model is 77%, but the performance metrics may be skewed due to the imbalance in class distribution.\n",
    "- Further investigation into data balance and model improvement is recommended."
   ]
  },
  {
   "cell_type": "markdown",
   "metadata": {},
   "source": [
    "## Next Steps\n",
    "\n",
    "1. **Convert Rating to Binary Labels**: Convert the 1-5 rating scale into binary labels where ratings of 4 and above are considered as \"good\" and ratings of 3 and below are considered as \"bad\".\n",
    "\n",
    "2. **Address Class Imbalance**: Since there is an 90-10 class imbalance with 90% of the reviews being rated as \"good\" (4 and above), we will address this imbalance using the Synthetic Minority Over-sampling Technique (SMOTE).\n",
    "\n",
    "3. **Implement SMOTE**: Use SMOTE to create synthetic samples for the minority class (ratings of \"bad\") to balance the class distribution.\n",
    "\n",
    "4. **Train Model**: Once the dataset is balanced, train the machine learning model on the resampled data.\n",
    "\n",
    "Let's proceed with these steps to prepare the data for training the model.\n"
   ]
  },
  {
   "cell_type": "code",
   "execution_count": 11,
   "metadata": {},
   "outputs": [
    {
     "data": {
      "text/html": [
       "<div>\n",
       "<style scoped>\n",
       "    .dataframe tbody tr th:only-of-type {\n",
       "        vertical-align: middle;\n",
       "    }\n",
       "\n",
       "    .dataframe tbody tr th {\n",
       "        vertical-align: top;\n",
       "    }\n",
       "\n",
       "    .dataframe thead th {\n",
       "        text-align: right;\n",
       "    }\n",
       "</style>\n",
       "<table border=\"1\" class=\"dataframe\">\n",
       "  <thead>\n",
       "    <tr style=\"text-align: right;\">\n",
       "      <th></th>\n",
       "      <th>course_name</th>\n",
       "      <th>lecture_name</th>\n",
       "      <th>review_rating</th>\n",
       "      <th>review_comment</th>\n",
       "      <th>comment_length</th>\n",
       "    </tr>\n",
       "  </thead>\n",
       "  <tbody>\n",
       "    <tr>\n",
       "      <th>0</th>\n",
       "      <td>Advanced Microsoft Excel</td>\n",
       "      <td>F1 to F12 - Using Excel's Function Keys</td>\n",
       "      <td>good</td>\n",
       "      <td>perfect</td>\n",
       "      <td>8</td>\n",
       "    </tr>\n",
       "    <tr>\n",
       "      <th>1</th>\n",
       "      <td>Agile and Scrum Project Management</td>\n",
       "      <td>Agile vs Waterfall - Conclusions</td>\n",
       "      <td>bad</td>\n",
       "      <td>thescrumchapterarefulloferrors</td>\n",
       "      <td>36</td>\n",
       "    </tr>\n",
       "    <tr>\n",
       "      <th>2</th>\n",
       "      <td>AI Applications for Business Success</td>\n",
       "      <td>Correlation vs. Causation</td>\n",
       "      <td>bad</td>\n",
       "      <td>badqualityofaudioandnarrative</td>\n",
       "      <td>35</td>\n",
       "    </tr>\n",
       "    <tr>\n",
       "      <th>3</th>\n",
       "      <td>AI Applications for Business Success</td>\n",
       "      <td>Correlation vs. Causation</td>\n",
       "      <td>bad</td>\n",
       "      <td>needdocumentationaboutlecture</td>\n",
       "      <td>35</td>\n",
       "    </tr>\n",
       "    <tr>\n",
       "      <th>4</th>\n",
       "      <td>Building a 3-Statement Model in Excel</td>\n",
       "      <td>Calculating Cash Flows and Completing the Mode...</td>\n",
       "      <td>good</td>\n",
       "      <td>greatcoursenedhasatalentforexplainingthingsand...</td>\n",
       "      <td>75</td>\n",
       "    </tr>\n",
       "  </tbody>\n",
       "</table>\n",
       "</div>"
      ],
      "text/plain": [
       "                             course_name  \\\n",
       "0               Advanced Microsoft Excel   \n",
       "1     Agile and Scrum Project Management   \n",
       "2   AI Applications for Business Success   \n",
       "3   AI Applications for Business Success   \n",
       "4  Building a 3-Statement Model in Excel   \n",
       "\n",
       "                                        lecture_name review_rating  \\\n",
       "0            F1 to F12 - Using Excel's Function Keys          good   \n",
       "1                   Agile vs Waterfall - Conclusions           bad   \n",
       "2                          Correlation vs. Causation           bad   \n",
       "3                          Correlation vs. Causation           bad   \n",
       "4  Calculating Cash Flows and Completing the Mode...          good   \n",
       "\n",
       "                                      review_comment  comment_length  \n",
       "0                                            perfect               8  \n",
       "1                     thescrumchapterarefulloferrors              36  \n",
       "2                      badqualityofaudioandnarrative              35  \n",
       "3                      needdocumentationaboutlecture              35  \n",
       "4  greatcoursenedhasatalentforexplainingthingsand...              75  "
      ]
     },
     "execution_count": 11,
     "metadata": {},
     "output_type": "execute_result"
    }
   ],
   "source": [
    "# Implement a binary rating system:\n",
    "def binary_rating(rating: int|float) -> str:\n",
    "    return 'good' if rating >= 4 else 'bad'\n",
    "\n",
    "bin_data = cleaned_data.copy() # Creating a copy of original data\n",
    "\n",
    "bin_data['review_rating'] = bin_data['review_rating'].apply(binary_rating)\n",
    "bin_data.head()\n"
   ]
  },
  {
   "cell_type": "code",
   "execution_count": 12,
   "metadata": {},
   "outputs": [
    {
     "name": "stdout",
     "output_type": "stream",
     "text": [
      "The data is imbalanced, with 91.33% of the reviews classified as 'good' and 8.67% as 'bad'.\n"
     ]
    }
   ],
   "source": [
    "# confirm the imbalance:\n",
    "df_majority = bin_data[bin_data.review_rating == 'good']\n",
    "df_minority = bin_data[bin_data.review_rating == 'bad']\n",
    "\n",
    "maj = len(df_majority['review_rating'])\n",
    "min = len(df_minority['review_rating'])\n",
    "\n",
    "maj_perc = np.round((maj/ (maj+min) * 100), 2)\n",
    "min_perc = np.round((100 - maj_perc), 2)\n",
    "\n",
    "print(f\"The data is imbalanced, with {maj_perc}% of the reviews classified as 'good' and {min_perc}% as 'bad'.\")"
   ]
  },
  {
   "cell_type": "code",
   "execution_count": 13,
   "metadata": {},
   "outputs": [
    {
     "name": "stdout",
     "output_type": "stream",
     "text": [
      "Balanced training data:\n",
      "review_rating\n",
      "good    110\n",
      "bad     110\n",
      "Name: count, dtype: int64\n"
     ]
    }
   ],
   "source": [
    "from imblearn.over_sampling import SMOTE\n",
    "\n",
    "X = bin_data['review_comment']\n",
    "y = bin_data['review_rating']\n",
    "\n",
    "# Splitting the data into train and test sets\n",
    "X_train, X_test, y_train, y_test = train_test_split(X, y, test_size=0.2, random_state=42)\n",
    "\n",
    "# To convert the comments into numerical values so that oversampling doesn't give any errors\n",
    "X_train_tfidf = vectorizer.fit_transform(X_train)\n",
    "\n",
    "smote = SMOTE(random_state=42)\n",
    "X_smote, y_smote = smote.fit_resample(X_train_tfidf, y_train)\n",
    "\n",
    "# X_smote will be a sparse matrix\n",
    "X_test_tfidf = vectorizer.transform(X_test)\n",
    "\n",
    "# Convert X_smote to DataFrame\n",
    "bin_data_smote_train = pd.DataFrame(X_smote.toarray(), columns=vectorizer.get_feature_names_out())\n",
    "bin_data_smote_train['review_rating'] = y_smote\n",
    "\n",
    "# Check balance\n",
    "print(\"Balanced training data:\")\n",
    "print(bin_data_smote_train['review_rating'].value_counts())\n"
   ]
  },
  {
   "cell_type": "markdown",
   "metadata": {},
   "source": [
    "Trainign and Testing the model:"
   ]
  },
  {
   "cell_type": "code",
   "execution_count": 14,
   "metadata": {},
   "outputs": [
    {
     "name": "stdout",
     "output_type": "stream",
     "text": [
      "              precision    recall  f1-score   support\n",
      "\n",
      "         bad       0.11      1.00      0.20         3\n",
      "        good       1.00      0.11      0.20        27\n",
      "\n",
      "    accuracy                           0.20        30\n",
      "   macro avg       0.56      0.56      0.20        30\n",
      "weighted avg       0.91      0.20      0.20        30\n",
      " \n",
      " [[ 3  0]\n",
      " [24  3]]\n"
     ]
    }
   ],
   "source": [
    "model = MultinomialNB()\n",
    "model.fit(X_smote, y_smote)\n",
    "\n",
    "y_pred = model.predict(X_test_tfidf)\n",
    "\n",
    "report = classification_report(y_test ,y_pred)\n",
    "conf_mat = confusion_matrix(y_test, y_pred)\n",
    "\n",
    "print(report, \"\\n\", conf_mat)"
   ]
  },
  {
   "cell_type": "markdown",
   "metadata": {},
   "source": [
    "## Conclusion: Evaluation of SMOTE Oversampling\n",
    "\n",
    "### Overview\n",
    "The SMOTE (Synthetic Minority Over-sampling Technique) method was employed to address the class imbalance issue in the dataset. Class imbalance is a common challenge in machine learning, where one class significantly outnumbers the other(s), leading to biased models.\n",
    "\n",
    "### Methodology\n",
    "1. **Data Preparation**: The dataset was preprocessed, and the target variable was transformed into binary labels: 'good' (ratings 4 and above) and 'bad' (ratings 3 and below).\n",
    "  \n",
    "2. **SMOTE Oversampling**: The minority class ('bad' ratings) was oversampled using the SMOTE algorithm, which generates synthetic samples to balance the class distribution.\n",
    "\n",
    "3. **Model Training and Evaluation**: A Multinomial Naive Bayes classifier was trained on the oversampled dataset, and its performance was evaluated using standard classification metrics such as precision, recall, F1-score, and accuracy.\n",
    "\n",
    "### Results\n",
    "#### Classification Report:\n",
    "\n",
    "|           | Precision | Recall | F1-Score | Support |\n",
    "|-----------|-----------|--------|----------|---------|\n",
    "| bad       | 0.11      | 1.00   | 0.20     | 3       |\n",
    "| good      | 1.00      | 0.11   | 0.20     | 27      |\n",
    "|-----------|-----------|--------|----------|---------|\n",
    "| Accuracy  |           |        | 0.20     | 30      |\n",
    "| Macro Avg | 0.56      | 0.56   | 0.20     | 30      |\n",
    "| Weighted Avg | 0.91   | 0.20   | 0.20     | 30      |\n",
    "\n",
    "#### Confusion Matrix:\n",
    "\n",
    "|           | Predicted Bad | Predicted Good |\n",
    "|-----------|---------------|----------------|\n",
    "| Actual Bad    | 3             | 0              |\n",
    "| Actual Good   | 24            | 3              |\n",
    "\n",
    "### Discussion\n",
    "- **Imbalanced Classes**: Despite SMOTE oversampling, the model struggled to effectively learn from the minority class due to the extreme class imbalance.\n",
    "- **Model Limitations**: The Multinomial Naive Bayes classifier may not be well-suited for this task, especially with imbalanced data, as it assumes independent features.\n",
    "- **Future Considerations**: Further experimentation with different classification algorithms and additional techniques for handling class imbalance, such as ensemble methods or custom cost-sensitive learning, may yield better results.\n",
    "\n",
    "### Conclusion\n",
    "In conclusion, while SMOTE oversampling helped balance the class distribution, it did not significantly improve the model's performance. Addressing class imbalance remains a challenging task, and further exploration of alternative approaches is recommended to build more accurate predictive models.\n"
   ]
  },
  {
   "cell_type": "markdown",
   "metadata": {},
   "source": [
    "## Exploring Minority Class Upsampling\n",
    "\n",
    "### Possibility:\n",
    "I'm considering exploring minority class upsampling to address the imbalance in my dataset. This technique involves increasing the number of instances in the minority class to balance the class distribution and improve model performance, especially for algorithms sensitive to class imbalance.\n",
    "\n",
    "### Steps:\n",
    "\n",
    "1. **Identify the Minority Class:** First, I'll identify which class in my dataset is the minority class. In binary classification, this is the class with fewer instances, while in multiclass classification, it's the class with the lowest frequency.\n",
    "\n",
    "2. **Perform Upsampling:** I'll then perform upsampling of the minority class. This can be done through various methods, including:\n",
    "   - Random oversampling: Duplicating instances randomly from the minority class.\n",
    "   - Synthetic Minority Over-sampling Technique (SMOTE): Generating synthetic samples based on the nearest neighbors of existing minority class instances.\n",
    "   - Adaptive Synthetic Sampling (ADASYN): Similar to SMOTE but adds random noise to the synthetic samples.\n",
    "   - Borderline-SMOTE: Focusing on borderline instances to generate synthetic samples.\n",
    "\n",
    "3. **Split the Dataset:** Next, I'll split the upsampled dataset into training and testing sets using techniques like train-test split or cross-validation to evaluate the model's performance.\n",
    "\n",
    "4. **Train and Validate the Model:** I'll train my machine learning model on the upsampled training data and validate its performance on the testing data. I'll use appropriate evaluation metrics such as accuracy, precision, recall, F1-score, and the confusion matrix to assess the model's effectiveness.\n",
    "\n",
    "5. **Iterate and Tune:** I'll iterate on the model by experimenting with different algorithms, hyperparameters, and sampling techniques. I'll fine-tune the model until I achieve satisfactory performance.\n",
    "\n",
    "6. **Final Evaluation:** Once I'm satisfied with the model's performance, I'll evaluate it on unseen data to ensure its generalization capability.\n",
    "\n",
    "### Conclusion:\n",
    "Exploring minority class upsampling can be an effective strategy to mitigate class imbalance and improve model performance. However, I'll need to be cautious of potential drawbacks such as overfitting and increased computational complexity. By carefully selecting the appropriate upsampling method and evaluating the model thoroughly, I can build a robust classifier that accurately predicts minority class instances.\n"
   ]
  },
  {
   "cell_type": "code",
   "execution_count": 15,
   "metadata": {},
   "outputs": [
    {
     "data": {
      "text/html": [
       "<div>\n",
       "<style scoped>\n",
       "    .dataframe tbody tr th:only-of-type {\n",
       "        vertical-align: middle;\n",
       "    }\n",
       "\n",
       "    .dataframe tbody tr th {\n",
       "        vertical-align: top;\n",
       "    }\n",
       "\n",
       "    .dataframe thead th {\n",
       "        text-align: right;\n",
       "    }\n",
       "</style>\n",
       "<table border=\"1\" class=\"dataframe\">\n",
       "  <thead>\n",
       "    <tr style=\"text-align: right;\">\n",
       "      <th></th>\n",
       "      <th>course_name</th>\n",
       "      <th>lecture_name</th>\n",
       "      <th>review_rating</th>\n",
       "      <th>review_comment</th>\n",
       "      <th>comment_length</th>\n",
       "    </tr>\n",
       "  </thead>\n",
       "  <tbody>\n",
       "    <tr>\n",
       "      <th>0</th>\n",
       "      <td>Advanced Microsoft Excel</td>\n",
       "      <td>F1 to F12 - Using Excel's Function Keys</td>\n",
       "      <td>5.0</td>\n",
       "      <td>perfect</td>\n",
       "      <td>8</td>\n",
       "    </tr>\n",
       "    <tr>\n",
       "      <th>1</th>\n",
       "      <td>Agile and Scrum Project Management</td>\n",
       "      <td>Agile vs Waterfall - Conclusions</td>\n",
       "      <td>1.0</td>\n",
       "      <td>thescrumchapterarefulloferrors</td>\n",
       "      <td>36</td>\n",
       "    </tr>\n",
       "    <tr>\n",
       "      <th>2</th>\n",
       "      <td>AI Applications for Business Success</td>\n",
       "      <td>Correlation vs. Causation</td>\n",
       "      <td>3.0</td>\n",
       "      <td>badqualityofaudioandnarrative</td>\n",
       "      <td>35</td>\n",
       "    </tr>\n",
       "    <tr>\n",
       "      <th>3</th>\n",
       "      <td>AI Applications for Business Success</td>\n",
       "      <td>Correlation vs. Causation</td>\n",
       "      <td>3.0</td>\n",
       "      <td>needdocumentationaboutlecture</td>\n",
       "      <td>35</td>\n",
       "    </tr>\n",
       "    <tr>\n",
       "      <th>4</th>\n",
       "      <td>Building a 3-Statement Model in Excel</td>\n",
       "      <td>Calculating Cash Flows and Completing the Mode...</td>\n",
       "      <td>5.0</td>\n",
       "      <td>greatcoursenedhasatalentforexplainingthingsand...</td>\n",
       "      <td>75</td>\n",
       "    </tr>\n",
       "  </tbody>\n",
       "</table>\n",
       "</div>"
      ],
      "text/plain": [
       "                             course_name  \\\n",
       "0               Advanced Microsoft Excel   \n",
       "1     Agile and Scrum Project Management   \n",
       "2   AI Applications for Business Success   \n",
       "3   AI Applications for Business Success   \n",
       "4  Building a 3-Statement Model in Excel   \n",
       "\n",
       "                                        lecture_name  review_rating  \\\n",
       "0            F1 to F12 - Using Excel's Function Keys            5.0   \n",
       "1                   Agile vs Waterfall - Conclusions            1.0   \n",
       "2                          Correlation vs. Causation            3.0   \n",
       "3                          Correlation vs. Causation            3.0   \n",
       "4  Calculating Cash Flows and Completing the Mode...            5.0   \n",
       "\n",
       "                                      review_comment  comment_length  \n",
       "0                                            perfect               8  \n",
       "1                     thescrumchapterarefulloferrors              36  \n",
       "2                      badqualityofaudioandnarrative              35  \n",
       "3                      needdocumentationaboutlecture              35  \n",
       "4  greatcoursenedhasatalentforexplainingthingsand...              75  "
      ]
     },
     "execution_count": 15,
     "metadata": {},
     "output_type": "execute_result"
    }
   ],
   "source": [
    "# start over just to be safe:\n",
    "\n",
    "df = cleaned_data.copy()\n",
    "df.head()"
   ]
  },
  {
   "cell_type": "code",
   "execution_count": 16,
   "metadata": {},
   "outputs": [
    {
     "data": {
      "text/plain": [
       "(119,\n",
       " 119,\n",
       " review_rating\n",
       " 5.0    119\n",
       " 4.0     63\n",
       " 3.0     46\n",
       " 1.0      6\n",
       " 2.0      4\n",
       " Name: count, dtype: int64)"
      ]
     },
     "execution_count": 16,
     "metadata": {},
     "output_type": "execute_result"
    }
   ],
   "source": [
    "df_majority = df[df.review_rating > 4]\n",
    "df_minority = df[df.review_rating <= 4]\n",
    "\n",
    "df_minority_sampled = resample(df_minority, replace= True, n_samples=len(df_majority), random_state=42)\n",
    "\n",
    "df_unsampled = pd.concat([df_majority, df_minority_sampled])\n",
    "\n",
    "maj = df_unsampled[df_unsampled.review_rating > 4]\n",
    "miny = df_unsampled[df_unsampled.review_rating <= 4]\n",
    "\n",
    "len(maj), len(miny), df_unsampled.review_rating.value_counts()"
   ]
  },
  {
   "cell_type": "code",
   "execution_count": 17,
   "metadata": {},
   "outputs": [
    {
     "name": "stderr",
     "output_type": "stream",
     "text": [
      "C:\\Users\\jadia\\AppData\\Local\\Packages\\PythonSoftwareFoundation.Python.3.10_qbz5n2kfra8p0\\LocalCache\\local-packages\\Python310\\site-packages\\sklearn\\metrics\\_classification.py:1509: UndefinedMetricWarning: Precision is ill-defined and being set to 0.0 in labels with no predicted samples. Use `zero_division` parameter to control this behavior.\n",
      "  _warn_prf(average, modifier, f\"{metric.capitalize()} is\", len(result))\n",
      "C:\\Users\\jadia\\AppData\\Local\\Packages\\PythonSoftwareFoundation.Python.3.10_qbz5n2kfra8p0\\LocalCache\\local-packages\\Python310\\site-packages\\sklearn\\metrics\\_classification.py:1509: UndefinedMetricWarning: Precision is ill-defined and being set to 0.0 in labels with no predicted samples. Use `zero_division` parameter to control this behavior.\n",
      "  _warn_prf(average, modifier, f\"{metric.capitalize()} is\", len(result))\n",
      "C:\\Users\\jadia\\AppData\\Local\\Packages\\PythonSoftwareFoundation.Python.3.10_qbz5n2kfra8p0\\LocalCache\\local-packages\\Python310\\site-packages\\sklearn\\metrics\\_classification.py:1509: UndefinedMetricWarning: Precision is ill-defined and being set to 0.0 in labels with no predicted samples. Use `zero_division` parameter to control this behavior.\n",
      "  _warn_prf(average, modifier, f\"{metric.capitalize()} is\", len(result))\n"
     ]
    },
    {
     "data": {
      "text/plain": [
       "('              precision    recall  f1-score   support\\n\\n         2.0       0.00      0.00      0.00         2\\n         3.0       1.00      1.00      1.00        10\\n         4.0       0.92      1.00      0.96        11\\n         5.0       0.92      0.96      0.94        25\\n\\n    accuracy                           0.94        48\\n   macro avg       0.71      0.74      0.72        48\\nweighted avg       0.90      0.94      0.92        48\\n',\n",
       " array([[ 2,  0,  0,  0],\n",
       "        [ 0, 10,  0,  0],\n",
       "        [ 0,  0, 11,  0],\n",
       "        [ 0,  0,  0, 25]], dtype=int64))"
      ]
     },
     "execution_count": 17,
     "metadata": {},
     "output_type": "execute_result"
    }
   ],
   "source": [
    "X_unsampled = df_unsampled['review_comment']\n",
    "y_unsampled = df_unsampled['review_rating']\n",
    "\n",
    "X_us_train, X_us_test, y_us_train, y_us_test = train_test_split(X_unsampled, y_unsampled, test_size=0.2, random_state=42)\n",
    "\n",
    "text_clf_unsamp = make_pipeline(vectorizer, model)\n",
    "text_clf_unsamp.fit(X_us_train, y_us_train)\n",
    "\n",
    "y_us_pred = text_clf_unsamp.predict(X_us_test)\n",
    "\n",
    "report_unsampled = classification_report(y_us_test, y_us_pred)\n",
    "conf_mat_unsampled = confusion_matrix(y_us_test, y_us_test)\n",
    "\n",
    "report_unsampled, conf_mat_unsampled"
   ]
  },
  {
   "cell_type": "markdown",
   "metadata": {},
   "source": [
    "|              | Precision | Recall | F1-Score | Support |\n",
    "|--------------|-----------|--------|----------|---------|\n",
    "|      2.0     |   0.00    |  0.00  |   0.00   |    2    |\n",
    "|      3.0     |   1.00    |  1.00  |   1.00   |   10    |\n",
    "|      4.0     |   0.92    |  1.00  |   0.96   |   11    |\n",
    "|      5.0     |   0.92    |  0.96  |   0.94   |   25    |\n",
    "\n",
    "Accuracy: 0.94\n"
   ]
  },
  {
   "cell_type": "code",
   "execution_count": 18,
   "metadata": {},
   "outputs": [
    {
     "data": {
      "image/png": "[encoded data removed]",
      "text/plain": [
       "<Figure size 800x600 with 2 Axes>"
      ]
     },
     "metadata": {},
     "output_type": "display_data"
    }
   ],
   "source": [
    "plot_heatmap(conf_mat_unsampled, 'Predicted', 'Actual', x_cat=['2', '3', '4', '5'], y_cat=['2', '3', '4', '5'], title='Confusion Matrix for unsampled data')"
   ]
  },
  {
   "cell_type": "markdown",
   "metadata": {},
   "source": [
    "saving the model:"
   ]
  },
  {
   "cell_type": "code",
   "execution_count": 22,
   "metadata": {},
   "outputs": [
    {
     "data": {
      "text/plain": [
       "['Review_Sentiment_Model.joblib']"
      ]
     },
     "execution_count": 22,
     "metadata": {},
     "output_type": "execute_result"
    }
   ],
   "source": [
    "from joblib import dump\n",
    "\n",
    "dump(text_clf_unsamp, 'Review_Sentiment_Model.joblib')"
   ]
  },
  {
   "cell_type": "code",
   "execution_count": 20,
   "metadata": {},
   "outputs": [
    {
     "data": {
      "text/plain": [
       "(              precision  recall  f1-score  support\n",
       " bad                 1.0     1.0       1.0     27.0\n",
       " good                1.0     1.0       1.0     28.0\n",
       " accuracy            1.0     1.0       1.0      1.0\n",
       " macro avg           1.0     1.0       1.0     55.0\n",
       " weighted avg        1.0     1.0       1.0     55.0,\n",
       " array([[27,  0],\n",
       "        [ 0, 28]], dtype=int64))"
      ]
     },
     "execution_count": 20,
     "metadata": {},
     "output_type": "execute_result"
    }
   ],
   "source": [
    "df_majority_bin = bin_data[bin_data.review_rating == 'good']\n",
    "df_minority_bin = bin_data[bin_data.review_rating == 'bad']\n",
    "\n",
    "df_minority_unsampled_bin = resample(df_minority_bin, replace=True, n_samples=len(df_majority_bin), random_state=42)\n",
    "\n",
    "df_unsampled_bin = pd.concat([df_majority_bin, df_minority_unsampled_bin])\n",
    "\n",
    "df_unsampled_bin.review_rating.value_counts()\n",
    "\n",
    "X_unsmp_bin = df_unsampled_bin['review_comment']\n",
    "y_unsmp_bin = df_unsampled_bin['review_rating']\n",
    "\n",
    "X_unsmp_bin_train, X_unsmp_bin_test, y_unsmp_bin_train, y_unsmp_bin_test = train_test_split(X_unsmp_bin, y_unsmp_bin, test_size=0.2, random_state=42)\n",
    "\n",
    "model_bernoulli = BernoulliNB()\n",
    "\n",
    "clf_txt_bin_unsmp = make_pipeline(vectorizer, model_bernoulli)\n",
    "clf_txt_bin_unsmp.fit(X_unsmp_bin_train, y_unsmp_bin_train)\n",
    "\n",
    "y_pred_bin_unsmp = clf_txt_bin_unsmp.predict(X_unsmp_bin_test)\n",
    "\n",
    "bin_report_unsmp = classification_report(y_unsmp_bin_test, y_pred_bin_unsmp, output_dict=True)\n",
    "bin_report_unsmp_df = pd.DataFrame(bin_report_unsmp).transpose()\n",
    "\n",
    "conf_mat_unsamp_bin = confusion_matrix(y_unsmp_bin_test, y_pred_bin_unsmp)\n",
    "bin_report_unsmp_df, conf_mat_unsamp_bin"
   ]
  },
  {
   "cell_type": "code",
   "execution_count": 23,
   "metadata": {},
   "outputs": [
    {
     "data": {
      "text/plain": [
       "['Bernoulli_Naive_Bayes_Model.joblib']"
      ]
     },
     "execution_count": 23,
     "metadata": {},
     "output_type": "execute_result"
    }
   ],
   "source": [
    "dump(clf_txt_bin_unsmp, 'Bernoulli_Naive_Bayes_Model.joblib')"
   ]
  },
  {
   "cell_type": "code",
   "execution_count": 21,
   "metadata": {},
   "outputs": [
    {
     "data": {
      "image/png": "[encoded data removed]",
      "text/plain": [
       "<Figure size 800x600 with 2 Axes>"
      ]
     },
     "metadata": {},
     "output_type": "display_data"
    }
   ],
   "source": [
    "plot_heatmap(conf_mat_unsamp_bin, 'Predicted', 'Actual', ['Bad', 'Good'], ['Bad', 'Good'], 'Confusion Matrix For Binary Classification')"
   ]
  },
  {
   "cell_type": "markdown",
   "metadata": {},
   "source": [
    "\n",
    "## Conclusion\n",
    "\n",
    "### Multinomial Naive Bayes Model\n",
    "\n",
    "The Multinomial Naive Bayes model trained on the resampled data achieved an average accuracy of 94%. This model demonstrated robust performance across all classes, as indicated by the classification report and confusion matrix:\n",
    "\n",
    "#### Classification Report:\n",
    "```\n",
    "              precision    recall  f1-score   support\n",
    "\n",
    "         2.0       0.00      0.00      0.00         2\n",
    "         3.0       1.00      1.00      1.00        10\n",
    "         4.0       0.92      1.00      0.96        11\n",
    "         5.0       0.92      0.96      0.94        25\n",
    "\n",
    "    accuracy                           0.94        48\n",
    "   macro avg       0.71      0.74      0.72        48\n",
    "weighted avg       0.90      0.94      0.92        48\n",
    "```\n",
    "\n",
    "#### Confusion Matrix:\n",
    "```\n",
    "[[ 2,  0,  0,  0],\n",
    " [ 0, 10,  0,  0],\n",
    " [ 0,  0, 11,  0],\n",
    " [ 0,  0,  0, 25]]\n",
    "```\n",
    "\n",
    "While the model performed exceptionally well overall, it's important to note that the precision, recall, and F1-score for class '2.0' were all zero. Further investigation is needed to understand why the model struggled with this class.\n",
    "\n",
    "### Bernoulli Naive Bayes Model\n",
    "\n",
    "On the other hand, the Bernoulli Naive Bayes model trained on the unsampled data achieved perfect precision, recall, and F1-score across all classes:\n",
    "\n",
    "#### Classification Report:\n",
    "```\n",
    "              precision  recall  f1-score  support\n",
    " bad                 1.0     1.0       1.0     27.0\n",
    " good                1.0     1.0       1.0     28.0\n",
    " accuracy            1.0     1.0       1.0      1.0\n",
    " macro avg           1.0     1.0       1.0     55.0\n",
    " weighted avg        1.0     1.0       1.0     55.0\n",
    "```\n",
    "\n",
    "#### Confusion Matrix:\n",
    "```\n",
    "[[27,  0],\n",
    " [ 0, 28]]\n",
    "```\n",
    "\n",
    "The Bernoulli Naive Bayes model exhibited exceptional performance, with an accuracy of 100% and perfect precision, recall, and F1-score for all classes. This suggests that the model effectively classified the reviews into their respective ratings without any misclassifications.\n",
    "``` \n",
    "\n",
    "This markdown provides a clear comparison of the performance of both models and highlights their strengths and weaknesses."
   ]
  },
  {
   "cell_type": "markdown",
   "metadata": {},
   "source": [
    "# END OF DOCUMENT"
   ]
  }
 ],
 "metadata": {
  "kernelspec": {
   "display_name": "Python 3",
   "language": "python",
   "name": "python3"
  },
  "language_info": {
   "codemirror_mode": {
    "name": "ipython",
    "version": 3
   },
   "file_extension": ".py",
   "mimetype": "text/x-python",
   "name": "python",
   "nbconvert_exporter": "python",
   "pygments_lexer": "ipython3",
   "version": "3.10.11"
  }
 },
 "nbformat": 4,
 "nbformat_minor": 2
}

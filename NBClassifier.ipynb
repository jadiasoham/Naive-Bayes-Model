{
 "cells": [
  {
   "cell_type": "markdown",
   "metadata": {},
   "source": [
    "# Course Review Sentiment Analysis with Naive Bayes Classifier\n",
    "\n",
    "This notebook aims to perform sentiment analysis on course reviews using a Naive Bayes classifier. The dataset consists of reviews for various online courses, along with their ratings. The goal is to predict whether a review is positive or negative based on its textual content.\n",
    "\n",
    "## Steps Taken:\n",
    "\n",
    "1. **Data Loading and Exploration:**\n",
    "   - Load the dataset containing course reviews.\n",
    "   - Explore the data to understand its structure and contents.\n",
    "\n",
    "2. **Data Preprocessing:**\n",
    "   - Clean and normalize the text data by removing punctuation, special characters, and digits.\n",
    "   - Handle missing values and perform basic data transformations.\n",
    "\n",
    "3. **Exploratory Data Analysis (EDA):**\n",
    "   - Analyze the distribution of review ratings.\n",
    "   - Explore the relationship between review ratings and review lengths.\n",
    "\n",
    "4. **Text Processing:**\n",
    "   - Tokenize the text data and convert it into numerical features using TF-IDF vectorization.\n",
    "   - Split the dataset into training and testing sets.\n",
    "\n",
    "5. **Model Building:**\n",
    "   - Implement a Multinomial Naive Bayes classifier.\n",
    "   - Train the classifier on the training data.\n",
    "\n",
    "6. **Model Evaluation:**\n",
    "   - Test the performance of the trained model on the testing data.\n",
    "   - Evaluate the model using classification metrics such as precision, recall, and F1-score.\n",
    "   - Visualize the performance using a confusion matrix.\n",
    "\n",
    "7. **Handling Class Imbalance:**\n",
    "   - Address the imbalance in the dataset by upsampling the minority class.\n",
    "   - Retrain the model on the upsampled data and evaluate its performance.\n",
    "\n",
    "8. **Binary Classification:**\n",
    "   - Convert the multi-class classification problem into a binary classification problem (good vs. bad reviews).\n",
    "   - Train and evaluate the binary classifier using the same steps as before.\n",
    "\n",
    "9. **Handling Class Imbalance (Binary Classification):**\n",
    "   - Upsample the minority class in the binary classification dataset.\n",
    "   - Retrain the binary classifier on the upsampled data and evaluate its performance.\n"
   ]
  },
  {
   "cell_type": "markdown",
   "metadata": {},
   "source": [
    "Relevant Imports"
   ]
  },
  {
   "cell_type": "code",
   "execution_count": 2,
   "metadata": {},
   "outputs": [],
   "source": [
    "from sklearn.model_selection import train_test_split\n",
    "from sklearn.feature_extraction.text import TfidfVectorizer\n",
    "from sklearn.naive_bayes import MultinomialNB\n",
    "from sklearn.pipeline import make_pipeline\n",
    "from sklearn.metrics import classification_report, confusion_matrix\n",
    "from sklearn.utils import resample\n",
    "import string\n",
    "import re\n",
    "import pandas as pd\n",
    "from matplotlib import pyplot as plt\n",
    "from typing import Sequence, Optional\n",
    "import numpy as np\n",
    "import seaborn as sns\n",
    "sns.set_theme('notebook')"
   ]
  },
  {
   "cell_type": "markdown",
   "metadata": {},
   "source": [
    "Functions for cleaning text and plotting histogram"
   ]
  },
  {
   "cell_type": "code",
   "execution_count": 3,
   "metadata": {},
   "outputs": [],
   "source": [
    "# Function for cleaning and normalizing text:\n",
    "\n",
    "def clean_text(text: str) -> str:\n",
    "    \"\"\"\n",
    "    Clean and normalize the input text by performing the following steps:\n",
    "    1. Convert the text to lowercase.\n",
    "    2. Remove punctuation marks from the text.\n",
    "    3. Remove special characters, punctuation, and digits from the text.\n",
    "    4. Replace multiple consecutive whitespaces with a single whitespace.\n",
    "\n",
    "    Parameters:\n",
    "    - text (str): The input text to be cleaned.\n",
    "\n",
    "    Returns:\n",
    "    - str: The cleaned and normalized text.\n",
    "\n",
    "    Example:\n",
    "    >>> clean_text(\"Hello! This is a sample text. It contains special characters & digits 123.\")\n",
    "    'hello this is a sample text it contains special characters digits'\n",
    "    \"\"\"\n",
    "    text = text.lower()\n",
    "    text = text.translate(str.maketrans('','',string.punctuation)) # Removes any punctuations present in the text\n",
    "    text = re.sub(r'^[a-zA-Z]\\s', '', text) # Removes special characters, punctuations and digits\n",
    "    text = re.sub(r'\\s+', '', text) # Removes extra whitespaces\n",
    "    return text\n",
    "\n",
    "# A function to plot histogram with defined parameters pre calculated\n",
    "def plot_histogram(data: Sequence, x_label: str, y_label: str, title: str, n_bins: Optional[int] = None) -> None:\n",
    "    \"\"\"\n",
    "    Plot a histogram of the input data with specified parameters.\n",
    "\n",
    "    Parameters:\n",
    "    - data (Sequence): The input data for which the histogram will be plotted.\n",
    "    - x_label (str): The label for the x-axis.\n",
    "    - y_label (str): The label for the y-axis.\n",
    "    - title (str): The title of the histogram plot.\n",
    "    - n_bins (Optional[int]): The number of bins for the histogram. If not provided, \n",
    "      it is calculated based on the Freedman-Diaconis rule.\n",
    "\n",
    "    Returns:\n",
    "    - None\n",
    "\n",
    "    Example:\n",
    "    >>> import numpy as np\n",
    "    >>> import matplotlib.pyplot as plt\n",
    "    >>> data = np.random.normal(loc=0, scale=1, size=1000)\n",
    "    >>> plot_histogram(data, x_label=\"Value\", y_label=\"Frequency\", title=\"Histogram of Data\")\n",
    "    \"\"\"\n",
    "    if n_bins is None:\n",
    "        n = len(data)\n",
    "        q3, q1 = np.percentile(data, [75, 25])\n",
    "        iqr = q3 - q1\n",
    "        bin_width = 2 * iqr * (n**(-1/3))\n",
    "        if np.isinf(bin_width) or np.isnan(bin_width) or bin_width == 0:\n",
    "            n_bins = np.ceil(2*(np.cbrt(n))).astype('int32')\n",
    "        else:\n",
    "            data_range = max(data) - min(data)\n",
    "            n_bins = np.ceil(data_range/bin_width).astype('int32')\n",
    "    plt.hist(x= data, bins= n_bins)\n",
    "    plt.xlabel(x_label)\n",
    "    plt.ylabel(y_label)\n",
    "    plt.title(title)\n",
    "    plt.tight_layout()\n",
    "    plt.show()"
   ]
  },
  {
   "cell_type": "markdown",
   "metadata": {},
   "source": [
    "Get the data"
   ]
  },
  {
   "cell_type": "code",
   "execution_count": 4,
   "metadata": {},
   "outputs": [
    {
     "data": {
      "text/html": [
       "<div>\n",
       "<style scoped>\n",
       "    .dataframe tbody tr th:only-of-type {\n",
       "        vertical-align: middle;\n",
       "    }\n",
       "\n",
       "    .dataframe tbody tr th {\n",
       "        vertical-align: top;\n",
       "    }\n",
       "\n",
       "    .dataframe thead th {\n",
       "        text-align: right;\n",
       "    }\n",
       "</style>\n",
       "<table border=\"1\" class=\"dataframe\">\n",
       "  <thead>\n",
       "    <tr style=\"text-align: right;\">\n",
       "      <th></th>\n",
       "      <th>course_name</th>\n",
       "      <th>lecture_name</th>\n",
       "      <th>review_rating</th>\n",
       "      <th>review_comment</th>\n",
       "    </tr>\n",
       "  </thead>\n",
       "  <tbody>\n",
       "    <tr>\n",
       "      <th>0</th>\n",
       "      <td>Advanced Microsoft Excel</td>\n",
       "      <td>F1 to F12 - Using Excel's Function Keys</td>\n",
       "      <td>5</td>\n",
       "      <td>perfect</td>\n",
       "    </tr>\n",
       "    <tr>\n",
       "      <th>1</th>\n",
       "      <td>Agile and Scrum Project Management</td>\n",
       "      <td>Agile vs Waterfall - Conclusions</td>\n",
       "      <td>1</td>\n",
       "      <td>The SCRUM chapter are full of errors</td>\n",
       "    </tr>\n",
       "    <tr>\n",
       "      <th>2</th>\n",
       "      <td>AI Applications for Business Success</td>\n",
       "      <td>Correlation vs. Causation</td>\n",
       "      <td>3</td>\n",
       "      <td>Bad quality of audio and narrative</td>\n",
       "    </tr>\n",
       "    <tr>\n",
       "      <th>3</th>\n",
       "      <td>AI Applications for Business Success</td>\n",
       "      <td>Correlation vs. Causation</td>\n",
       "      <td>3</td>\n",
       "      <td>I need documentation about lecture.</td>\n",
       "    </tr>\n",
       "    <tr>\n",
       "      <th>4</th>\n",
       "      <td>Building a 3-Statement Model in Excel</td>\n",
       "      <td>Calculating Cash Flows and Completing the Mode...</td>\n",
       "      <td>5</td>\n",
       "      <td>Great course! Ned has a talent for explaining ...</td>\n",
       "    </tr>\n",
       "  </tbody>\n",
       "</table>\n",
       "</div>"
      ],
      "text/plain": [
       "                             course_name  \\\n",
       "0               Advanced Microsoft Excel   \n",
       "1     Agile and Scrum Project Management   \n",
       "2   AI Applications for Business Success   \n",
       "3   AI Applications for Business Success   \n",
       "4  Building a 3-Statement Model in Excel   \n",
       "\n",
       "                                        lecture_name  review_rating  \\\n",
       "0            F1 to F12 - Using Excel's Function Keys              5   \n",
       "1                   Agile vs Waterfall - Conclusions              1   \n",
       "2                          Correlation vs. Causation              3   \n",
       "3                          Correlation vs. Causation              3   \n",
       "4  Calculating Cash Flows and Completing the Mode...              5   \n",
       "\n",
       "                                      review_comment  \n",
       "0                                           perfect   \n",
       "1               The SCRUM chapter are full of errors  \n",
       "2                Bad quality of audio and narrative   \n",
       "3                I need documentation about lecture.  \n",
       "4  Great course! Ned has a talent for explaining ...  "
      ]
     },
     "execution_count": 4,
     "metadata": {},
     "output_type": "execute_result"
    }
   ],
   "source": [
    "data_file = 'user_courses_review_test_set.csv'\n",
    "data = pd.read_csv(data_file)\n",
    "data.head()"
   ]
  },
  {
   "cell_type": "markdown",
   "metadata": {},
   "source": [
    "perform EDA"
   ]
  },
  {
   "cell_type": "code",
   "execution_count": 5,
   "metadata": {},
   "outputs": [
    {
     "data": {
      "text/plain": [
       "(course_name       0\n",
       " lecture_name      0\n",
       " review_rating     0\n",
       " review_comment    4\n",
       " dtype: int64,\n",
       " course_name        object\n",
       " lecture_name       object\n",
       " review_rating     float64\n",
       " review_comment     object\n",
       " dtype: object)"
      ]
     },
     "execution_count": 5,
     "metadata": {},
     "output_type": "execute_result"
    }
   ],
   "source": [
    "# check data type:\n",
    "data['review_rating'] = data['review_rating'].astype(np.float64)\n",
    "data_types = data.dtypes\n",
    "\n",
    "# find the missing values:\n",
    "missing_values = data.isnull().sum()\n",
    "missing_values, data_types\n"
   ]
  },
  {
   "cell_type": "code",
   "execution_count": 6,
   "metadata": {},
   "outputs": [
    {
     "data": {
      "text/plain": [
       "count    154.000000\n",
       "mean       4.642857\n",
       "std        0.805849\n",
       "min        1.000000\n",
       "25%        5.000000\n",
       "50%        5.000000\n",
       "75%        5.000000\n",
       "max        5.000000\n",
       "Name: review_rating, dtype: float64"
      ]
     },
     "execution_count": 6,
     "metadata": {},
     "output_type": "execute_result"
    }
   ],
   "source": [
    "review_rating_stats = data['review_rating'].describe()\n",
    "review_rating_stats"
   ]
  },
  {
   "cell_type": "code",
   "execution_count": 7,
   "metadata": {},
   "outputs": [
    {
     "data": {
      "image/png": "[encoded data removed]",
      "text/plain": [
       "<Figure size 640x480 with 1 Axes>"
      ]
     },
     "metadata": {},
     "output_type": "display_data"
    }
   ],
   "source": [
    "plot_histogram(data['review_rating'], 'Ratings', 'Frequency', 'Distribution of review ratings', 5)"
   ]
  },
  {
   "cell_type": "markdown",
   "metadata": {},
   "source": [
    "preprocessing"
   ]
  },
  {
   "cell_type": "code",
   "execution_count": 8,
   "metadata": {},
   "outputs": [
    {
     "name": "stderr",
     "output_type": "stream",
     "text": [
      "C:\\Users\\jadia\\AppData\\Local\\Temp\\ipykernel_14580\\1371462421.py:4: SettingWithCopyWarning: \n",
      "A value is trying to be set on a copy of a slice from a DataFrame.\n",
      "Try using .loc[row_indexer,col_indexer] = value instead\n",
      "\n",
      "See the caveats in the documentation: https://pandas.pydata.org/pandas-docs/stable/user_guide/indexing.html#returning-a-view-versus-a-copy\n",
      "  cleaned_data['comment_length'] = cleaned_data['review_comment'].apply(len)\n"
     ]
    },
    {
     "data": {
      "text/plain": [
       "((150, 4),\n",
       "                 review_rating  comment_length\n",
       " review_rating        1.000000       -0.145206\n",
       " comment_length      -0.145206        1.000000)"
      ]
     },
     "execution_count": 8,
     "metadata": {},
     "output_type": "execute_result"
    }
   ],
   "source": [
    "cleaned_data = data.dropna()\n",
    "new_shape = cleaned_data.shape\n",
    "\n",
    "cleaned_data['comment_length'] = cleaned_data['review_comment'].apply(len)\n",
    "correlation = cleaned_data[['review_rating', 'comment_length']].corr()\n",
    "\n",
    "new_shape, correlation"
   ]
  },
  {
   "cell_type": "code",
   "execution_count": 9,
   "metadata": {},
   "outputs": [
    {
     "data": {
      "text/plain": [
       "{'positive_emphasis': 82,\n",
       " 'negative_emphasis': 1,\n",
       " 'question': 0,\n",
       " 'exclamation': 20,\n",
       " 'capital_words': 9}"
      ]
     },
     "execution_count": 9,
     "metadata": {},
     "output_type": "execute_result"
    }
   ],
   "source": [
    "patterns = {\n",
    "    \"positive_emphasis\" : re.compile(r'\\b(great|good|excellent|amazing|love|best|awesome|fantastic)\\b', re.IGNORECASE),\n",
    "    \"negative_emphasis\" : re.compile(r'\\b(bad|terrible|aweful|poor|worst|hate|dissappoint)\\b', re.IGNORECASE),\n",
    "    \"question\" : re.compile(r'\\?'),\n",
    "    \"exclamation\" : re.compile(r'!'),\n",
    "    \"capital_words\" : re.compile(r'\\b[A-Z]{2,}\\b'),\n",
    "}\n",
    "\n",
    "pattern_counts = {key: 0 for key in patterns}\n",
    "\n",
    "for review in cleaned_data['review_comment']:\n",
    "    for key, pattern in patterns.items():\n",
    "        if re.search(pattern, review):\n",
    "            pattern_counts[key] += 1\n",
    "\n",
    "pattern_counts"
   ]
  },
  {
   "cell_type": "markdown",
   "metadata": {},
   "source": [
    "Normalize text comments and split them into training and test sets"
   ]
  },
  {
   "cell_type": "code",
   "execution_count": 10,
   "metadata": {},
   "outputs": [],
   "source": [
    "cleaned_data.loc[:,'review_comment'] = cleaned_data.loc[:,'review_comment'].apply(clean_text)\n",
    "\n",
    "\n",
    "# Separation of concerns into features(X) and targets(y):\n",
    "X = cleaned_data.loc[:, 'review_comment']\n",
    "y = cleaned_data.loc[:, 'review_rating']\n",
    "\n",
    "# Split into train and test data:\n",
    "X_train, X_test, y_train, y_test = train_test_split(X, y, test_size=0.2, random_state=42)"
   ]
  },
  {
   "cell_type": "markdown",
   "metadata": {},
   "source": [
    "Tokenize, Vectorize and create a model"
   ]
  },
  {
   "cell_type": "code",
   "execution_count": 13,
   "metadata": {},
   "outputs": [
    {
     "name": "stdout",
     "output_type": "stream",
     "text": [
      "[[ 0  0  0  1]\n",
      " [ 0  0  0  2]\n",
      " [ 0  0  0  4]\n",
      " [ 0  0  0 23]] \n",
      "               precision    recall  f1-score   support\n",
      "\n",
      "         1.0       0.00      0.00      0.00         1\n",
      "         3.0       0.00      0.00      0.00         2\n",
      "         4.0       0.00      0.00      0.00         4\n",
      "         5.0       0.77      1.00      0.87        23\n",
      "\n",
      "    accuracy                           0.77        30\n",
      "   macro avg       0.19      0.25      0.22        30\n",
      "weighted avg       0.59      0.77      0.67        30\n",
      "\n"
     ]
    },
    {
     "name": "stderr",
     "output_type": "stream",
     "text": [
      "C:\\Users\\jadia\\AppData\\Local\\Packages\\PythonSoftwareFoundation.Python.3.10_qbz5n2kfra8p0\\LocalCache\\local-packages\\Python310\\site-packages\\sklearn\\metrics\\_classification.py:1509: UndefinedMetricWarning: Precision is ill-defined and being set to 0.0 in labels with no predicted samples. Use `zero_division` parameter to control this behavior.\n",
      "  _warn_prf(average, modifier, f\"{metric.capitalize()} is\", len(result))\n",
      "C:\\Users\\jadia\\AppData\\Local\\Packages\\PythonSoftwareFoundation.Python.3.10_qbz5n2kfra8p0\\LocalCache\\local-packages\\Python310\\site-packages\\sklearn\\metrics\\_classification.py:1509: UndefinedMetricWarning: Precision is ill-defined and being set to 0.0 in labels with no predicted samples. Use `zero_division` parameter to control this behavior.\n",
      "  _warn_prf(average, modifier, f\"{metric.capitalize()} is\", len(result))\n",
      "C:\\Users\\jadia\\AppData\\Local\\Packages\\PythonSoftwareFoundation.Python.3.10_qbz5n2kfra8p0\\LocalCache\\local-packages\\Python310\\site-packages\\sklearn\\metrics\\_classification.py:1509: UndefinedMetricWarning: Precision is ill-defined and being set to 0.0 in labels with no predicted samples. Use `zero_division` parameter to control this behavior.\n",
      "  _warn_prf(average, modifier, f\"{metric.capitalize()} is\", len(result))\n"
     ]
    }
   ],
   "source": [
    "vectorizer = TfidfVectorizer(stop_words='english')\n",
    "model = MultinomialNB()\n",
    "\n",
    "text_clf = make_pipeline(vectorizer, model)\n",
    "text_clf.fit(X_train, y_train)\n",
    "\n",
    "y_pred = text_clf.predict(X_test)\n",
    "report = classification_report(y_test, y_pred)\n",
    "conf_mat = confusion_matrix(y_test, y_pred)\n",
    "\n",
    "print(conf_mat, \"\\n\",report)"
   ]
  },
  {
   "cell_type": "code",
   "execution_count": null,
   "metadata": {},
   "outputs": [],
   "source": []
  }
 ],
 "metadata": {
  "kernelspec": {
   "display_name": "Python 3",
   "language": "python",
   "name": "python3"
  },
  "language_info": {
   "codemirror_mode": {
    "name": "ipython",
    "version": 3
   },
   "file_extension": ".py",
   "mimetype": "text/x-python",
   "name": "python",
   "nbconvert_exporter": "python",
   "pygments_lexer": "ipython3",
   "version": "3.10.11"
  }
 },
 "nbformat": 4,
 "nbformat_minor": 2
}
